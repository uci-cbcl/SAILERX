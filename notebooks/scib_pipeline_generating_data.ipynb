{
 "cells": [
  {
   "cell_type": "markdown",
   "id": "tropical-ordering",
   "metadata": {},
   "source": [
    "## This is the scib pipeline for generating PBMC data using scanorama, scvi and scanvi methods.\n",
    "\n",
    "Please refer to scib package for installation (https://github.com/theislab/scib.git)\n",
    "\n",
    "\n",
    "PBMC dataset is stored in google drive cloud, which can be downloaded according to our github web. Please check it out.\n"
   ]
  },
  {
   "cell_type": "code",
   "execution_count": 1,
   "id": "sustainable-sterling",
   "metadata": {},
   "outputs": [],
   "source": [
    "import scanpy as sc\n",
    "\n",
    "import scib\n",
    "import numpy as np\n",
    "from scipy.sparse import csr_matrix\n",
    "# import tensorflow\n",
    "import pdb"
   ]
  },
  {
   "cell_type": "code",
   "execution_count": 2,
   "id": "realistic-skating",
   "metadata": {},
   "outputs": [
    {
     "name": "stderr",
     "output_type": "stream",
     "text": [
      "/data0/fly/miniconda3/envs/scvi-env/lib/python3.7/site-packages/ipykernel/ipkernel.py:283: DeprecationWarning: `should_run_async` will not call `transform_cell` automatically in the future. Please pass the result to `transformed_cell` argument and any exception that happen during thetransform in `preprocessing_exc_tuple` in IPython 7.17 and above.\n",
      "  and should_run_async(code)\n"
     ]
    }
   ],
   "source": [
    "adata = sc.read_h5ad('/data0/fly/experiment/MVAE/share_seq_data/share_seq_from_server1/PBMC_raw.h5ad')\n",
    "\n",
    "adata.layers['counts'] = adata.X.toarray()\n",
    "adata.X = csr_matrix(adata.X.toarray())\n",
    "adata.obs['batchname'] = 'exp1'\n",
    "adata.obs['batchname'] = adata.obs['batchname'].astype('category')\n"
   ]
  },
  {
   "cell_type": "code",
   "execution_count": null,
   "id": "regular-review",
   "metadata": {},
   "outputs": [
    {
     "name": "stderr",
     "output_type": "stream",
     "text": [
      "/data0/fly/miniconda3/envs/scvi-env/lib/python3.7/site-packages/intervaltree/intervaltree.py:37: DeprecationWarning: Using or importing the ABCs from 'collections' instead of from 'collections.abc' is deprecated since Python 3.3,and in 3.9 it will stop working\n",
      "  class IntervalTree(collections.MutableSet):\n",
      "/data0/fly/miniconda3/envs/scvi-env/lib/python3.7/site-packages/pandas/core/arrays/categorical.py:2487: FutureWarning: The `inplace` parameter in pandas.Categorical.remove_unused_categories is deprecated and will be removed in a future version.\n",
      "  res = method(*args, **kwargs)\n"
     ]
    },
    {
     "name": "stdout",
     "output_type": "stream",
     "text": [
      "Found 36601 genes among all datasets\n"
     ]
    }
   ],
   "source": [
    "## different methods\n",
    "\n",
    "## scanorama\n",
    "adata_scanorama = scib.integration.scanorama(adata,batch='batchname')\n"
   ]
  },
  {
   "cell_type": "code",
   "execution_count": 7,
   "id": "filled-breathing",
   "metadata": {},
   "outputs": [
    {
     "name": "stderr",
     "output_type": "stream",
     "text": [
      "/data0/fly/miniconda3/envs/scvi-env/lib/python3.7/site-packages/ipykernel/ipkernel.py:283: DeprecationWarning: `should_run_async` will not call `transform_cell` automatically in the future. Please pass the result to `transformed_cell` argument and any exception that happen during thetransform in `preprocessing_exc_tuple` in IPython 7.17 and above.\n",
      "  and should_run_async(code)\n"
     ]
    },
    {
     "name": "stdout",
     "output_type": "stream",
     "text": [
      "\u001b[34mINFO    \u001b[0m Remapping batch_indices to \u001b[1m[\u001b[0m\u001b[1;34m0\u001b[0m,N\u001b[1m]\u001b[0m                                                    \n",
      "\u001b[34mINFO    \u001b[0m Remapping labels to \u001b[1m[\u001b[0m\u001b[1;34m0\u001b[0m,N\u001b[1m]\u001b[0m                                                           \n",
      "\u001b[34mINFO    \u001b[0m Computing the library size for the new data                                         \n",
      "\u001b[34mINFO    \u001b[0m Downsampled from \u001b[1;34m11331\u001b[0m to \u001b[1;34m11331\u001b[0m cells                                               \n",
      "scANVI dataset object with 1 batches and 29 cell types\n",
      "\u001b[34mINFO    \u001b[0m KL warmup for \u001b[1;34m400\u001b[0m epochs                                                            \n",
      "training:   0%|          | 0/400 [00:00<?, ?it/s]"
     ]
    },
    {
     "name": "stderr",
     "output_type": "stream",
     "text": [
      "/data0/fly/miniconda3/envs/scvi-env/lib/python3.7/site-packages/scvi/models/log_likelihood.py:273: UserWarning: Specified kernel cache directory could not be created! This disables kernel caching. Specified directory is /home/fly/.cache/torch/kernels. This warning will appear only once per process. (Triggered internally at  ../aten/src/ATen/native/cuda/jit_utils.cpp:860.)\n",
      "  - torch.lgamma(x + 1)\n"
     ]
    },
    {
     "name": "stdout",
     "output_type": "stream",
     "text": [
      "training: 100%|██████████| 400/400 [16:06<00:00,  2.42s/it]\n",
      "\u001b[34mINFO    \u001b[0m KL warmup phase exceeds overall training phaseIf your applications rely on the      \n",
      "         posterior quality, consider training for more epochs or reducing the kl warmup.     \n",
      "\u001b[34mINFO    \u001b[0m KL warmup for \u001b[1;34m400\u001b[0m epochs                                                            \n",
      "training: 100%|██████████| 10/10 [01:02<00:00,  6.28s/it]\n",
      "\u001b[34mINFO    \u001b[0m Training is still in warming up phase. If your applications rely on the posterior   \n",
      "         quality, consider training for more epochs or reducing the kl warmup.               \n"
     ]
    }
   ],
   "source": [
    "## scanvi\n",
    "\n",
    "adata_scanvi = scib.integration.scanvi(adata,batch='batchname',labels='predicted.id')\n"
   ]
  },
  {
   "cell_type": "code",
   "execution_count": 3,
   "id": "conscious-portugal",
   "metadata": {},
   "outputs": [
    {
     "name": "stderr",
     "output_type": "stream",
     "text": [
      "/data0/fly/miniconda3/envs/scvi-env/lib/python3.7/site-packages/fsspec/__init__.py:43: DeprecationWarning: SelectableGroups dict interface is deprecated. Use select.\n",
      "  for spec in entry_points.get(\"fsspec.specs\", []):\n",
      "/data0/fly/miniconda3/envs/scvi-env/lib/python3.7/site-packages/tensorboard/compat/tensorflow_stub/dtypes.py:568: DeprecationWarning: `np.object` is a deprecated alias for the builtin `object`. To silence this warning, use `object` by itself. Doing this will not modify any behavior and is safe. \n",
      "Deprecated in NumPy 1.20; for more details and guidance: https://numpy.org/devdocs/release/1.20.0-notes.html#deprecations\n",
      "  (np.object, string),\n",
      "/data0/fly/miniconda3/envs/scvi-env/lib/python3.7/site-packages/tensorboard/compat/tensorflow_stub/dtypes.py:569: DeprecationWarning: `np.bool` is a deprecated alias for the builtin `bool`. To silence this warning, use `bool` by itself. Doing this will not modify any behavior and is safe. If you specifically wanted the numpy scalar type, use `np.bool_` here.\n",
      "Deprecated in NumPy 1.20; for more details and guidance: https://numpy.org/devdocs/release/1.20.0-notes.html#deprecations\n",
      "  (np.bool, bool),\n",
      "/data0/fly/miniconda3/envs/scvi-env/lib/python3.7/site-packages/tensorboard/compat/tensorflow_stub/dtypes.py:593: DeprecationWarning: `np.object` is a deprecated alias for the builtin `object`. To silence this warning, use `object` by itself. Doing this will not modify any behavior and is safe. \n",
      "Deprecated in NumPy 1.20; for more details and guidance: https://numpy.org/devdocs/release/1.20.0-notes.html#deprecations\n",
      "  types_pb2.DT_STRING: np.object,\n",
      "/data0/fly/miniconda3/envs/scvi-env/lib/python3.7/site-packages/tensorboard/compat/tensorflow_stub/dtypes.py:597: DeprecationWarning: `np.bool` is a deprecated alias for the builtin `bool`. To silence this warning, use `bool` by itself. Doing this will not modify any behavior and is safe. If you specifically wanted the numpy scalar type, use `np.bool_` here.\n",
      "Deprecated in NumPy 1.20; for more details and guidance: https://numpy.org/devdocs/release/1.20.0-notes.html#deprecations\n",
      "  types_pb2.DT_BOOL: np.bool,\n",
      "/data0/fly/miniconda3/envs/scvi-env/lib/python3.7/site-packages/tensorboard/compat/tensorflow_stub/dtypes.py:614: DeprecationWarning: `np.object` is a deprecated alias for the builtin `object`. To silence this warning, use `object` by itself. Doing this will not modify any behavior and is safe. \n",
      "Deprecated in NumPy 1.20; for more details and guidance: https://numpy.org/devdocs/release/1.20.0-notes.html#deprecations\n",
      "  types_pb2.DT_STRING_REF: np.object,\n",
      "/data0/fly/miniconda3/envs/scvi-env/lib/python3.7/site-packages/tensorboard/compat/tensorflow_stub/dtypes.py:619: DeprecationWarning: `np.bool` is a deprecated alias for the builtin `bool`. To silence this warning, use `bool` by itself. Doing this will not modify any behavior and is safe. If you specifically wanted the numpy scalar type, use `np.bool_` here.\n",
      "Deprecated in NumPy 1.20; for more details and guidance: https://numpy.org/devdocs/release/1.20.0-notes.html#deprecations\n",
      "  types_pb2.DT_BOOL_REF: np.bool,\n",
      "/data0/fly/miniconda3/envs/scvi-env/lib/python3.7/site-packages/tensorboard/util/tensor_util.py:100: DeprecationWarning: `np.object` is a deprecated alias for the builtin `object`. To silence this warning, use `object` by itself. Doing this will not modify any behavior and is safe. \n",
      "Deprecated in NumPy 1.20; for more details and guidance: https://numpy.org/devdocs/release/1.20.0-notes.html#deprecations\n",
      "  np.object: SlowAppendObjectArrayToTensorProto,\n",
      "/data0/fly/miniconda3/envs/scvi-env/lib/python3.7/site-packages/tensorboard/util/tensor_util.py:101: DeprecationWarning: `np.bool` is a deprecated alias for the builtin `bool`. To silence this warning, use `bool` by itself. Doing this will not modify any behavior and is safe. If you specifically wanted the numpy scalar type, use `np.bool_` here.\n",
      "Deprecated in NumPy 1.20; for more details and guidance: https://numpy.org/devdocs/release/1.20.0-notes.html#deprecations\n",
      "  np.bool: SlowAppendBoolArrayToTensorProto,\n",
      "/data0/fly/miniconda3/envs/scvi-env/lib/python3.7/importlib/_bootstrap.py:219: RuntimeWarning: numpy.ufunc size changed, may indicate binary incompatibility. Expected 192 from C header, got 216 from PyObject\n",
      "  return f(*args, **kwds)\n"
     ]
    },
    {
     "name": "stdout",
     "output_type": "stream",
     "text": [
      "\u001b[34mINFO    \u001b[0m Remapping labels to \u001b[1m[\u001b[0m\u001b[1;34m0\u001b[0m,N\u001b[1m]\u001b[0m                                                           \n",
      "\u001b[34mINFO    \u001b[0m Remapping batch_indices to \u001b[1m[\u001b[0m\u001b[1;34m0\u001b[0m,N\u001b[1m]\u001b[0m                                                    \n",
      "\u001b[34mINFO    \u001b[0m Computing the library size for the new data                                         \n",
      "\u001b[34mINFO    \u001b[0m Downsampled from \u001b[1;34m11331\u001b[0m to \u001b[1;34m11331\u001b[0m cells                                               \n",
      "\u001b[34mINFO    \u001b[0m KL warmup for \u001b[1;34m400\u001b[0m epochs                                                            \n",
      "training:   0%|          | 0/400 [00:00<?, ?it/s]"
     ]
    },
    {
     "name": "stderr",
     "output_type": "stream",
     "text": [
      "/data0/fly/miniconda3/envs/scvi-env/lib/python3.7/site-packages/scvi/models/log_likelihood.py:273: UserWarning: Specified kernel cache directory could not be created! This disables kernel caching. Specified directory is /home/fly/.cache/torch/kernels. This warning will appear only once per process. (Triggered internally at  ../aten/src/ATen/native/cuda/jit_utils.cpp:860.)\n",
      "  - torch.lgamma(x + 1)\n"
     ]
    },
    {
     "name": "stdout",
     "output_type": "stream",
     "text": [
      "training: 100%|██████████| 400/400 [15:55<00:00,  2.39s/it]\n"
     ]
    }
   ],
   "source": [
    "## scvi\n",
    "\n",
    "adata_scvi = scib.integration.scvi(adata,batch='batchname')\n"
   ]
  },
  {
   "cell_type": "code",
   "execution_count": 7,
   "id": "outstanding-certification",
   "metadata": {},
   "outputs": [],
   "source": [
    "np.save('PBMC_scvi_emb.npy',adata_scvi.obsm['X_emb'])\n",
    "np.save('PBMC_scanvi_emb.npy',adata_scanvi.obsm['X_emb'])\n",
    "np.save('PBMC_scanorama_emb.npy',adata_scanorama.obsm['X_emb'])\n",
    "\n",
    "# \n"
   ]
  }
 ],
 "metadata": {
  "kernelspec": {
   "display_name": "Python 3",
   "language": "python",
   "name": "python3"
  },
  "language_info": {
   "codemirror_mode": {
    "name": "ipython",
    "version": 3
   },
   "file_extension": ".py",
   "mimetype": "text/x-python",
   "name": "python",
   "nbconvert_exporter": "python",
   "pygments_lexer": "ipython3",
   "version": "3.7.10"
  }
 },
 "nbformat": 4,
 "nbformat_minor": 5
}
